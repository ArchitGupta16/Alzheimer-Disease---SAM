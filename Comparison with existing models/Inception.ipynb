{
  "nbformat": 4,
  "nbformat_minor": 0,
  "metadata": {
    "colab": {
      "provenance": [],
      "gpuType": "T4"
    },
    "kernelspec": {
      "name": "python3",
      "display_name": "Python 3"
    },
    "language_info": {
      "name": "python"
    },
    "accelerator": "GPU"
  },
  "cells": [
    {
      "cell_type": "code",
      "execution_count": 1,
      "metadata": {
        "colab": {
          "base_uri": "https://localhost:8080/"
        },
        "id": "VKWOttSUrY-J",
        "outputId": "9207d7a1-355b-4734-e497-b6d5cd392356"
      },
      "outputs": [
        {
          "output_type": "stream",
          "name": "stdout",
          "text": [
            "Collecting opendatasets\n",
            "  Downloading opendatasets-0.1.22-py3-none-any.whl (15 kB)\n",
            "Requirement already satisfied: tqdm in /usr/local/lib/python3.10/dist-packages (from opendatasets) (4.66.4)\n",
            "Requirement already satisfied: kaggle in /usr/local/lib/python3.10/dist-packages (from opendatasets) (1.6.14)\n",
            "Requirement already satisfied: click in /usr/local/lib/python3.10/dist-packages (from opendatasets) (8.1.7)\n",
            "Requirement already satisfied: six>=1.10 in /usr/local/lib/python3.10/dist-packages (from kaggle->opendatasets) (1.16.0)\n",
            "Requirement already satisfied: certifi>=2023.7.22 in /usr/local/lib/python3.10/dist-packages (from kaggle->opendatasets) (2024.7.4)\n",
            "Requirement already satisfied: python-dateutil in /usr/local/lib/python3.10/dist-packages (from kaggle->opendatasets) (2.8.2)\n",
            "Requirement already satisfied: requests in /usr/local/lib/python3.10/dist-packages (from kaggle->opendatasets) (2.31.0)\n",
            "Requirement already satisfied: python-slugify in /usr/local/lib/python3.10/dist-packages (from kaggle->opendatasets) (8.0.4)\n",
            "Requirement already satisfied: urllib3 in /usr/local/lib/python3.10/dist-packages (from kaggle->opendatasets) (2.0.7)\n",
            "Requirement already satisfied: bleach in /usr/local/lib/python3.10/dist-packages (from kaggle->opendatasets) (6.1.0)\n",
            "Requirement already satisfied: webencodings in /usr/local/lib/python3.10/dist-packages (from bleach->kaggle->opendatasets) (0.5.1)\n",
            "Requirement already satisfied: text-unidecode>=1.3 in /usr/local/lib/python3.10/dist-packages (from python-slugify->kaggle->opendatasets) (1.3)\n",
            "Requirement already satisfied: charset-normalizer<4,>=2 in /usr/local/lib/python3.10/dist-packages (from requests->kaggle->opendatasets) (3.3.2)\n",
            "Requirement already satisfied: idna<4,>=2.5 in /usr/local/lib/python3.10/dist-packages (from requests->kaggle->opendatasets) (3.7)\n",
            "Installing collected packages: opendatasets\n",
            "Successfully installed opendatasets-0.1.22\n",
            "Requirement already satisfied: pandas in /usr/local/lib/python3.10/dist-packages (2.0.3)\n",
            "Requirement already satisfied: python-dateutil>=2.8.2 in /usr/local/lib/python3.10/dist-packages (from pandas) (2.8.2)\n",
            "Requirement already satisfied: pytz>=2020.1 in /usr/local/lib/python3.10/dist-packages (from pandas) (2023.4)\n",
            "Requirement already satisfied: tzdata>=2022.1 in /usr/local/lib/python3.10/dist-packages (from pandas) (2024.1)\n",
            "Requirement already satisfied: numpy>=1.21.0 in /usr/local/lib/python3.10/dist-packages (from pandas) (1.25.2)\n",
            "Requirement already satisfied: six>=1.5 in /usr/local/lib/python3.10/dist-packages (from python-dateutil>=2.8.2->pandas) (1.16.0)\n"
          ]
        }
      ],
      "source": [
        "!pip install opendatasets\n",
        "!pip install pandas"
      ]
    },
    {
      "cell_type": "code",
      "source": [
        "import os\n",
        "import cv2\n",
        "import glob\n",
        "import math\n",
        "import random\n",
        "import numpy as np\n",
        "import pandas as pd\n",
        "import seaborn as sns\n",
        "from tqdm import tqdm\n",
        "import multiprocessing\n",
        "import tensorflow as tf\n",
        "from pathlib import Path\n",
        "import concurrent.futures\n",
        "import keras.backend as K\n",
        "from time import perf_counter\n",
        "from functools import lru_cache\n",
        "import matplotlib.pyplot as plt\n",
        "from keras import layers, models\n",
        "from PIL import Image, ImageEnhance\n",
        "from joblib import Parallel, delayed\n",
        "from collections import defaultdict, Counter\n",
        "from sklearn.preprocessing import LabelEncoder\n",
        "from keras.metrics import Precision, Recall, AUC\n",
        "from keras.callbacks import LearningRateScheduler\n",
        "from keras.utils import plot_model, to_categorical\n",
        "from sklearn.model_selection import train_test_split\n",
        "from keras.preprocessing.image import ImageDataGenerator\n",
        "from concurrent.futures import ThreadPoolExecutor, as_completed\n",
        "from sklearn.metrics import accuracy_score, classification_report"
      ],
      "metadata": {
        "id": "-PnWNjOEU3gh"
      },
      "execution_count": 2,
      "outputs": []
    },
    {
      "cell_type": "code",
      "source": [
        "import os\n",
        "import cv2\n",
        "import itertools\n",
        "import numpy as np\n",
        "import pandas as pd\n",
        "from keras.metrics import Precision, Recall, AUC\n",
        "from sklearn.metrics import accuracy_score, classification_report\n",
        "from time import perf_counter\n",
        "from sklearn.model_selection import StratifiedShuffleSplit\n"
      ],
      "metadata": {
        "id": "H0-lqaGFshCw"
      },
      "execution_count": 3,
      "outputs": []
    },
    {
      "cell_type": "code",
      "source": [
        "import opendatasets as od\n",
        "import pandas\n",
        "\n",
        "od.download(\n",
        "    \"https://www.kaggle.com/datasets/tourist55/alzheimers-dataset-4-class-of-images\")\n"
      ],
      "metadata": {
        "colab": {
          "base_uri": "https://localhost:8080/"
        },
        "id": "10Y8eMALtc_r",
        "outputId": "11a6f37e-2f89-449c-8f82-6615e9431650"
      },
      "execution_count": 4,
      "outputs": [
        {
          "output_type": "stream",
          "name": "stdout",
          "text": [
            "Please provide your Kaggle credentials to download this dataset. Learn more: http://bit.ly/kaggle-creds\n",
            "Your Kaggle username: shubhi2807\n",
            "Your Kaggle Key: ··········\n",
            "Dataset URL: https://www.kaggle.com/datasets/tourist55/alzheimers-dataset-4-class-of-images\n",
            "Downloading alzheimers-dataset-4-class-of-images.zip to ./alzheimers-dataset-4-class-of-images\n"
          ]
        },
        {
          "output_type": "stream",
          "name": "stderr",
          "text": [
            "100%|██████████| 34.1M/34.1M [00:00<00:00, 169MB/s] \n"
          ]
        },
        {
          "output_type": "stream",
          "name": "stdout",
          "text": [
            "\n"
          ]
        }
      ]
    },
    {
      "cell_type": "code",
      "source": [
        "dataset_dir = '/content/alzheimers-dataset-4-class-of-images/Alzheimer_s Dataset'\n",
        "\n",
        "categories = ['VeryMildDemented', 'MildDemented', 'ModerateDemented', 'NonDemented']\n",
        "\n",
        "data = []\n",
        "labels = []\n",
        "\n",
        "for category in categories:\n",
        "    path = os.path.join(dataset_dir, 'train', category)\n",
        "    class_num = categories.index(category)\n",
        "\n",
        "    for img in os.listdir(path):\n",
        "        img_array = cv2.imread(os.path.join(path, img), cv2.IMREAD_COLOR)\n",
        "        img_array = cv2.resize(img_array, (299, 299))  # Resize the image\n",
        "        # img_array = img_array\n",
        "        data.append([img_array, class_num])\n",
        "\n",
        "for category in categories:\n",
        "    path = os.path.join(dataset_dir, 'test', category)\n",
        "    class_num = categories.index(category)\n",
        "\n",
        "    for img in os.listdir(path):\n",
        "        img_array = cv2.imread(os.path.join(path, img), cv2.IMREAD_COLOR)\n",
        "        img_array = cv2.resize(img_array, (299, 299))  # Resize the image\n",
        "        # img_array = img_array\n",
        "        data.append([img_array, class_num])\n",
        "\n",
        "np.random.shuffle(data)\n"
      ],
      "metadata": {
        "id": "ZPKm9JYftw7s"
      },
      "execution_count": 5,
      "outputs": []
    },
    {
      "cell_type": "code",
      "source": [
        "X = []\n",
        "y = []\n",
        "\n",
        "for features, label in data:\n",
        "    X.append(features)\n",
        "    y.append(label)\n",
        "\n",
        "X = np.array(X)\n",
        "y = np.array(y)\n",
        "# out = np.divide(X,255)\n",
        "\n",
        "y = to_categorical(y, num_classes=len(categories))\n",
        "\n",
        "n_splits = 1\n",
        "test_size = 0.2\n",
        "\n",
        "stratified_split = StratifiedShuffleSplit(n_splits=n_splits,test_size=test_size,random_state=43)\n",
        "\n",
        "for train_index, test_index in stratified_split.split(X,y):\n",
        "  X_t, X_test = X[train_index], X[test_index]\n",
        "  y_t, y_test = y[train_index], y[test_index]"
      ],
      "metadata": {
        "id": "6b0UFPldyuqj"
      },
      "execution_count": 6,
      "outputs": []
    },
    {
      "cell_type": "code",
      "source": [
        "n_splits = 1\n",
        "test_size = 0.2\n",
        "\n",
        "stratified_split = StratifiedShuffleSplit(n_splits=n_splits,test_size=test_size,random_state=43)\n",
        "# X_train, X_val, y_train, y_val = train_test_split(X, y, test_size=0.2, random_state=42)\n",
        "for train_index, val_index in stratified_split.split(X_t,y_t):\n",
        "  X_train, X_val = X_t[train_index], X_t[val_index]\n",
        "  y_train, y_val = y_t[train_index], y_t[val_index]"
      ],
      "metadata": {
        "id": "2AbOZ3SjypXZ"
      },
      "execution_count": 7,
      "outputs": []
    },
    {
      "cell_type": "code",
      "source": [
        "from collections import Counter\n",
        "\n",
        "train_class_counts = Counter(np.argmax(y_train, axis=1))\n",
        "\n",
        "val_class_counts = Counter(np.argmax(y_val, axis=1))\n",
        "\n",
        "test_class_counts = Counter(np.argmax(y_test, axis=1))\n",
        "\n",
        "print(\"Training Set Class Counts:\")\n",
        "for class_label, count in train_class_counts.items():\n",
        "    print(f\"Class {class_label}: {count} samples\")\n",
        "\n",
        "print(\"\\nValidation Set Class Counts:\")\n",
        "for class_label, count in val_class_counts.items():\n",
        "    print(f\"Class {class_label}: {count} samples\")\n",
        "\n",
        "print(\"\\nTest Set Class Counts:\")\n",
        "for class_label, count in test_class_counts.items():\n",
        "    print(f\"Class {class_label}: {count} samples\")\n"
      ],
      "metadata": {
        "colab": {
          "base_uri": "https://localhost:8080/"
        },
        "id": "88zsXth8ysDj",
        "outputId": "e7e597b7-7e2c-455d-c1e1-e2f56d4d207e"
      },
      "execution_count": 8,
      "outputs": [
        {
          "output_type": "stream",
          "name": "stdout",
          "text": [
            "Training Set Class Counts:\n",
            "Class 0: 1433 samples\n",
            "Class 1: 574 samples\n",
            "Class 3: 2048 samples\n",
            "Class 2: 41 samples\n",
            "\n",
            "Validation Set Class Counts:\n",
            "Class 0: 359 samples\n",
            "Class 3: 512 samples\n",
            "Class 1: 143 samples\n",
            "Class 2: 10 samples\n",
            "\n",
            "Test Set Class Counts:\n",
            "Class 0: 448 samples\n",
            "Class 3: 640 samples\n",
            "Class 1: 179 samples\n",
            "Class 2: 13 samples\n"
          ]
        }
      ]
    },
    {
      "cell_type": "code",
      "source": [
        "import random\n",
        "random.seed(20)"
      ],
      "metadata": {
        "id": "79X_Vh-CuBRo"
      },
      "execution_count": 9,
      "outputs": []
    },
    {
      "cell_type": "code",
      "source": [
        "from tensorflow.keras.applications import ResNet50\n",
        "from tensorflow.keras.layers import GlobalAveragePooling2D, Dense,Flatten\n",
        "from tensorflow.keras.models import Sequential\n",
        "from tensorflow.keras.models import Model\n",
        "\n",
        "# @title Inception model\n",
        "from keras.applications import InceptionV3\n",
        "base_model= InceptionV3(include_top=False, weights=\"imagenet\",input_shape=(299, 299, 3))\n",
        "model=Sequential()\n",
        "model.add(base_model)\n",
        "model.add(GlobalAveragePooling2D())\n",
        "# model.add(Dense(500, activation='relu'))\n",
        "# model.add(Dense(100, activation='relu'))\n",
        "# model.add(Dropout(0.2))\n",
        "model.add(Dense(len(categories), activation='softmax'))\n",
        "model.summary()"
      ],
      "metadata": {
        "id": "V7OwKZCWwccb",
        "colab": {
          "base_uri": "https://localhost:8080/"
        },
        "outputId": "18d27f4a-0aea-434a-baa9-c14aa004222e"
      },
      "execution_count": 10,
      "outputs": [
        {
          "output_type": "stream",
          "name": "stdout",
          "text": [
            "Downloading data from https://storage.googleapis.com/tensorflow/keras-applications/inception_v3/inception_v3_weights_tf_dim_ordering_tf_kernels_notop.h5\n",
            "87910968/87910968 [==============================] - 0s 0us/step\n",
            "Model: \"sequential\"\n",
            "_________________________________________________________________\n",
            " Layer (type)                Output Shape              Param #   \n",
            "=================================================================\n",
            " inception_v3 (Functional)   (None, 8, 8, 2048)        21802784  \n",
            "                                                                 \n",
            " global_average_pooling2d (  (None, 2048)              0         \n",
            " GlobalAveragePooling2D)                                         \n",
            "                                                                 \n",
            " dense (Dense)               (None, 4)                 8196      \n",
            "                                                                 \n",
            "=================================================================\n",
            "Total params: 21810980 (83.20 MB)\n",
            "Trainable params: 21776548 (83.07 MB)\n",
            "Non-trainable params: 34432 (134.50 KB)\n",
            "_________________________________________________________________\n"
          ]
        }
      ]
    },
    {
      "cell_type": "code",
      "source": [
        "plot_model(model, show_shapes=True)"
      ],
      "metadata": {
        "colab": {
          "base_uri": "https://localhost:8080/",
          "height": 442
        },
        "id": "dHR_aW_oVN35",
        "outputId": "e250ac12-0ace-473c-8fec-d26a4ae7223d"
      },
      "execution_count": 11,
      "outputs": [
        {
          "output_type": "execute_result",
          "data": {
            "image/png": "[encoded data removed]",
            "text/plain": [
              "<IPython.core.display.Image object>"
            ]
          },
          "metadata": {},
          "execution_count": 11
        }
      ]
    },
    {
      "cell_type": "code",
      "source": [
        "def create_metrics():\n",
        "    \"\"\"\n",
        "    Creates instances of various metrics for evaluating model performance.\n",
        "\n",
        "    Returns:\n",
        "        tuple: A tuple of the metrics: (recall, precision, f1_score, auc, sensitivity, specificity, mcc).\n",
        "    \"\"\"\n",
        "    @tf.function\n",
        "    def f1_score(y_true, y_pred):\n",
        "        \"\"\"\n",
        "        Calculates the F1 score.\n",
        "\n",
        "        Args:\n",
        "            y_true: True labels.\n",
        "            y_pred: Predicted labels.\n",
        "\n",
        "        Returns:\n",
        "            Tensor: F1 score.\n",
        "        \"\"\"\n",
        "        tp = true_positive(y_true, y_pred)\n",
        "        fp = false_positive(y_true, y_pred)\n",
        "        fn = false_negative(y_true, y_pred)\n",
        "\n",
        "        precision = tp / (tp + fp + K.epsilon())\n",
        "        recall = tp / (tp + fn + K.epsilon())\n",
        "\n",
        "        return 2 * (precision * recall) / (precision + recall + K.epsilon())\n",
        "\n",
        "    @tf.function\n",
        "    def specificity(y_true, y_pred):\n",
        "        \"\"\"\n",
        "        Calculates the specificity.\n",
        "\n",
        "        Args:\n",
        "            y_true: True labels.\n",
        "            y_pred: Predicted labels.\n",
        "\n",
        "        Returns:\n",
        "            Tensor: Specificity.\n",
        "        \"\"\"\n",
        "        tn = true_negative(y_true, y_pred)\n",
        "        fp = false_positive(y_true, y_pred)\n",
        "\n",
        "        return tn / (tn + fp + K.epsilon())\n",
        "\n",
        "    @tf.function\n",
        "    def sensitivity(y_true, y_pred):\n",
        "        \"\"\"\n",
        "        Calculates the sensitivity.\n",
        "\n",
        "        Args:\n",
        "            y_true: True labels.\n",
        "            y_pred: Predicted labels.\n",
        "\n",
        "        Returns:\n",
        "            Tensor: Sensitivity.\n",
        "        \"\"\"\n",
        "        tp = true_positive(y_true, y_pred)\n",
        "        fn = false_negative(y_true, y_pred)\n",
        "\n",
        "        return tp / (tp + fn + K.epsilon())\n",
        "\n",
        "    @tf.function\n",
        "    def mcc(y_true, y_pred):\n",
        "        \"\"\"\n",
        "        Calculates the Matthews correlation coefficient (MCC).\n",
        "\n",
        "        Args:\n",
        "            y_true: True labels.\n",
        "            y_pred: Predicted labels.\n",
        "\n",
        "        Returns:\n",
        "            Tensor: Matthews correlation coefficient.\n",
        "        \"\"\"\n",
        "        tp = true_positive(y_true, y_pred)\n",
        "        tn = true_negative(y_true, y_pred)\n",
        "        fp = false_positive(y_true, y_pred)\n",
        "        fn = false_negative(y_true, y_pred)\n",
        "\n",
        "        numerator = (tp * tn - fp * fn)\n",
        "        denominator = K.sqrt((tp + fp) * (tp + fn) * (tn + fp) * (tn + fn))\n",
        "\n",
        "        return numerator / (denominator + K.epsilon())\n",
        "\n",
        "    @tf.function\n",
        "    def true_positive(y_true, y_pred):\n",
        "        \"\"\"\n",
        "        Calculates the number of true positives.\n",
        "\n",
        "        Args:\n",
        "            y_true: True labels.\n",
        "            y_pred: Predicted labels.\n",
        "\n",
        "        Returns:\n",
        "            Tensor: Number of true positives.\n",
        "        \"\"\"\n",
        "        y_pred_pos, _, y_pos, _ = calculate_confusion_matrix(y_true, y_pred)\n",
        "        return K.sum(y_pos * y_pred_pos)\n",
        "\n",
        "    @tf.function\n",
        "    def false_positive(y_true, y_pred):\n",
        "        \"\"\"\n",
        "        Calculates the number of false positives.\n",
        "\n",
        "        Args:\n",
        "            y_true: True labels.\n",
        "            y_pred: Predicted labels.\n",
        "\n",
        "        Returns:\n",
        "            Tensor: Number of false positives.\n",
        "        \"\"\"\n",
        "        y_pred_pos, _, _, y_neg = calculate_confusion_matrix(y_true, y_pred)\n",
        "        return K.sum(y_neg * y_pred_pos)\n",
        "\n",
        "    @tf.function\n",
        "    def false_negative(y_true, y_pred):\n",
        "        \"\"\"\n",
        "        Calculates the number of false negatives.\n",
        "\n",
        "        Args:\n",
        "            y_true: True labels.\n",
        "            y_pred: Predicted labels.\n",
        "\n",
        "        Returns:\n",
        "            Tensor: Number of false negatives.\n",
        "        \"\"\"\n",
        "        _, y_pred_neg, y_pos, _ = calculate_confusion_matrix(y_true, y_pred)\n",
        "        return K.sum(y_pos * y_pred_neg)\n",
        "\n",
        "    @tf.function\n",
        "    def true_negative(y_true, y_pred):\n",
        "        \"\"\"\n",
        "        Calculates the number of true negatives.\n",
        "\n",
        "        Args:\n",
        "            y_true: True labels.\n",
        "            y_pred: Predicted labels.\n",
        "\n",
        "        Returns:\n",
        "            Tensor: Number of true negatives.\n",
        "        \"\"\"\n",
        "        _, y_pred_neg, _, y_neg = calculate_confusion_matrix(y_true, y_pred)\n",
        "        return K.sum(y_neg * y_pred_neg)\n",
        "\n",
        "    @tf.function\n",
        "    def calculate_confusion_matrix(y_true, y_pred):\n",
        "        \"\"\"\n",
        "        Calculates the components of the confusion matrix.\n",
        "\n",
        "        Args:\n",
        "            y_true: True labels.\n",
        "            y_pred: Predicted labels.\n",
        "\n",
        "        Returns:\n",
        "            tuple: A tuple containing the components of the confusion matrix: (y_pred_pos, y_pred_neg, y_pos, y_neg).\n",
        "        \"\"\"\n",
        "        y_pred_pos = K.round(K.clip(y_pred, 0, 1))\n",
        "        y_pred_neg = 1 - y_pred_pos\n",
        "        y_pos = K.round(K.clip(y_true, 0, 1))\n",
        "        y_neg = 1 - y_pos\n",
        "        return y_pred_pos, y_pred_neg, y_pos, y_neg\n",
        "\n",
        "    precision = Precision()\n",
        "    recall = Recall()\n",
        "    f1_score = f1_score\n",
        "    specificity = specificity\n",
        "    sensitivity = sensitivity\n",
        "    mcc = mcc\n",
        "    auc = AUC()\n",
        "\n",
        "    return (\n",
        "        precision,\n",
        "        recall,\n",
        "        f1_score,\n",
        "        specificity,\n",
        "        sensitivity,\n",
        "        mcc,\n",
        "        auc,\n",
        "    )"
      ],
      "metadata": {
        "id": "Br4b1efNVTuy"
      },
      "execution_count": 12,
      "outputs": []
    },
    {
      "cell_type": "code",
      "source": [
        "from keras.optimizers import Adam\n",
        "from keras.callbacks import LearningRateScheduler, EarlyStopping\n",
        "\n",
        "model.compile(\n",
        "    optimizer='adam',\n",
        "    loss='categorical_crossentropy',\n",
        "    metrics=['accuracy', create_metrics()])"
      ],
      "metadata": {
        "id": "0T7X1EoNy-r5"
      },
      "execution_count": 13,
      "outputs": []
    },
    {
      "cell_type": "code",
      "source": [
        "initial_learning_rate=0.0009\n",
        "\n",
        "def lr_scheduler(epoch, lr):\n",
        "    if epoch < 7:\n",
        "      return lr\n",
        "    else:\n",
        "      return lr * 0.95\n",
        "\n",
        "lr_callback = LearningRateScheduler(lr_scheduler)"
      ],
      "metadata": {
        "id": "ff0moPWAzAq3"
      },
      "execution_count": 14,
      "outputs": []
    },
    {
      "cell_type": "code",
      "source": [
        "\n",
        "early_stopping_callback = EarlyStopping(\n",
        "    monitor='val_loss',\n",
        "    patience=5,\n",
        "    restore_best_weights=True\n",
        ")\n",
        "\n",
        "optimizer_ad = Adam(learning_rate=initial_learning_rate)\n",
        "\n",
        "start_time = perf_counter()\n",
        "\n",
        "history = model.fit(\n",
        "    X_train, y_train,\n",
        "    epochs=20,\n",
        "    validation_data=(X_val, y_val),\n",
        "    batch_size=32,\n",
        "    callbacks=[lr_callback, early_stopping_callback]\n",
        ")\n",
        "end_time = perf_counter()"
      ],
      "metadata": {
        "colab": {
          "base_uri": "https://localhost:8080/"
        },
        "id": "xo5_cGM9wlF7",
        "outputId": "dc926f3a-6046-47d5-9c21-58296617ee08"
      },
      "execution_count": 15,
      "outputs": [
        {
          "output_type": "stream",
          "name": "stdout",
          "text": [
            "Epoch 1/20\n",
            "128/128 [==============================] - 112s 463ms/step - loss: 0.8133 - accuracy: 0.6350 - precision: 0.7047 - recall: 0.5435 - f1_score: 0.6067 - specificity: 0.9241 - sensitivity: 0.5435 - mcc: 0.5114 - auc: 0.8807 - val_loss: 20.1770 - val_accuracy: 0.5039 - val_precision: 0.5039 - val_recall: 0.5039 - val_f1_score: 0.5039 - val_specificity: 0.8346 - val_sensitivity: 0.5039 - val_mcc: 0.3385 - val_auc: 0.6721 - lr: 0.0010\n",
            "Epoch 2/20\n",
            "128/128 [==============================] - 59s 460ms/step - loss: 0.5222 - accuracy: 0.7825 - precision: 0.8114 - recall: 0.7500 - f1_score: 0.7791 - specificity: 0.9419 - sensitivity: 0.7500 - mcc: 0.7109 - auc: 0.9515 - val_loss: 23.0912 - val_accuracy: 0.1396 - val_precision: 0.1396 - val_recall: 0.1396 - val_f1_score: 0.1396 - val_specificity: 0.7132 - val_sensitivity: 0.1396 - val_mcc: -0.1471 - val_auc: 0.4294 - lr: 0.0010\n",
            "Epoch 3/20\n",
            "128/128 [==============================] - 58s 454ms/step - loss: 0.3264 - accuracy: 0.8765 - precision: 0.8877 - recall: 0.8625 - f1_score: 0.8748 - specificity: 0.9636 - sensitivity: 0.8625 - mcc: 0.8342 - auc: 0.9801 - val_loss: 3.4194 - val_accuracy: 0.5762 - val_precision: 0.5801 - val_recall: 0.5762 - val_f1_score: 0.5779 - val_specificity: 0.8610 - val_sensitivity: 0.5762 - val_mcc: 0.4380 - val_auc: 0.7466 - lr: 0.0010\n",
            "Epoch 4/20\n",
            "128/128 [==============================] - 58s 454ms/step - loss: 0.1931 - accuracy: 0.9314 - precision: 0.9362 - recall: 0.9250 - f1_score: 0.9304 - specificity: 0.9790 - sensitivity: 0.9250 - mcc: 0.9076 - auc: 0.9921 - val_loss: 5.1757 - val_accuracy: 0.5742 - val_precision: 0.5878 - val_recall: 0.5723 - val_f1_score: 0.5799 - val_specificity: 0.8662 - val_sensitivity: 0.5723 - val_mcc: 0.4425 - val_auc: 0.7214 - lr: 0.0010\n",
            "Epoch 5/20\n",
            "128/128 [==============================] - 58s 454ms/step - loss: 0.1444 - accuracy: 0.9460 - precision: 0.9491 - recall: 0.9424 - f1_score: 0.9456 - specificity: 0.9832 - sensitivity: 0.9424 - mcc: 0.9277 - auc: 0.9956 - val_loss: 6.0856 - val_accuracy: 0.4023 - val_precision: 0.4023 - val_recall: 0.4023 - val_f1_score: 0.4023 - val_specificity: 0.8008 - val_sensitivity: 0.4023 - val_mcc: 0.2031 - val_auc: 0.6310 - lr: 0.0010\n",
            "Epoch 6/20\n",
            "128/128 [==============================] - 58s 456ms/step - loss: 0.0973 - accuracy: 0.9656 - precision: 0.9674 - recall: 0.9648 - f1_score: 0.9661 - specificity: 0.9892 - sensitivity: 0.9648 - mcc: 0.9549 - auc: 0.9975 - val_loss: 1.7540 - val_accuracy: 0.6348 - val_precision: 0.6393 - val_recall: 0.6318 - val_f1_score: 0.6356 - val_specificity: 0.8812 - val_sensitivity: 0.6318 - val_mcc: 0.5152 - val_auc: 0.8521 - lr: 0.0010\n",
            "Epoch 7/20\n",
            "128/128 [==============================] - 58s 454ms/step - loss: 0.0825 - accuracy: 0.9688 - precision: 0.9706 - recall: 0.9670 - f1_score: 0.9688 - specificity: 0.9902 - sensitivity: 0.9670 - mcc: 0.9584 - auc: 0.9987 - val_loss: 2.7251 - val_accuracy: 0.6016 - val_precision: 0.6059 - val_recall: 0.6006 - val_f1_score: 0.6031 - val_specificity: 0.8698 - val_sensitivity: 0.6006 - val_mcc: 0.4717 - val_auc: 0.7905 - lr: 0.0010\n",
            "Epoch 8/20\n",
            "128/128 [==============================] - 58s 456ms/step - loss: 0.0502 - accuracy: 0.9839 - precision: 0.9846 - recall: 0.9832 - f1_score: 0.9839 - specificity: 0.9949 - sensitivity: 0.9832 - mcc: 0.9785 - auc: 0.9993 - val_loss: 0.2797 - val_accuracy: 0.9121 - val_precision: 0.9200 - val_recall: 0.9092 - val_f1_score: 0.9145 - val_specificity: 0.9736 - val_sensitivity: 0.9092 - val_mcc: 0.8863 - val_auc: 0.9854 - lr: 9.5000e-04\n",
            "Epoch 9/20\n",
            "128/128 [==============================] - 58s 454ms/step - loss: 0.0629 - accuracy: 0.9775 - precision: 0.9797 - recall: 0.9763 - f1_score: 0.9779 - specificity: 0.9932 - sensitivity: 0.9763 - mcc: 0.9706 - auc: 0.9986 - val_loss: 6.8595 - val_accuracy: 0.5186 - val_precision: 0.5191 - val_recall: 0.5186 - val_f1_score: 0.5188 - val_specificity: 0.8398 - val_sensitivity: 0.5186 - val_mcc: 0.3585 - val_auc: 0.7041 - lr: 9.0250e-04\n",
            "Epoch 10/20\n",
            "128/128 [==============================] - 58s 455ms/step - loss: 0.0878 - accuracy: 0.9666 - precision: 0.9670 - recall: 0.9661 - f1_score: 0.9665 - specificity: 0.9890 - sensitivity: 0.9661 - mcc: 0.9554 - auc: 0.9982 - val_loss: 0.2226 - val_accuracy: 0.9229 - val_precision: 0.9269 - val_recall: 0.9160 - val_f1_score: 0.9213 - val_specificity: 0.9759 - val_sensitivity: 0.9160 - val_mcc: 0.8955 - val_auc: 0.9899 - lr: 8.5737e-04\n",
            "Epoch 11/20\n",
            "128/128 [==============================] - 58s 456ms/step - loss: 0.0165 - accuracy: 0.9944 - precision: 0.9946 - recall: 0.9944 - f1_score: 0.9945 - specificity: 0.9982 - sensitivity: 0.9944 - mcc: 0.9927 - auc: 1.0000 - val_loss: 0.1185 - val_accuracy: 0.9580 - val_precision: 0.9588 - val_recall: 0.9541 - val_f1_score: 0.9563 - val_specificity: 0.9863 - val_sensitivity: 0.9541 - val_mcc: 0.9419 - val_auc: 0.9968 - lr: 8.1451e-04\n",
            "Epoch 12/20\n",
            "128/128 [==============================] - 58s 454ms/step - loss: 0.0118 - accuracy: 0.9966 - precision: 0.9971 - recall: 0.9963 - f1_score: 0.9967 - specificity: 0.9990 - sensitivity: 0.9963 - mcc: 0.9956 - auc: 1.0000 - val_loss: 0.4630 - val_accuracy: 0.8486 - val_precision: 0.8524 - val_recall: 0.8457 - val_f1_score: 0.8490 - val_specificity: 0.9512 - val_sensitivity: 0.8457 - val_mcc: 0.7990 - val_auc: 0.9717 - lr: 7.7378e-04\n",
            "Epoch 13/20\n",
            "128/128 [==============================] - 58s 454ms/step - loss: 0.0131 - accuracy: 0.9963 - precision: 0.9966 - recall: 0.9958 - f1_score: 0.9962 - specificity: 0.9989 - sensitivity: 0.9958 - mcc: 0.9950 - auc: 1.0000 - val_loss: 0.1903 - val_accuracy: 0.9336 - val_precision: 0.9381 - val_recall: 0.9326 - val_f1_score: 0.9353 - val_specificity: 0.9795 - val_sensitivity: 0.9326 - val_mcc: 0.9139 - val_auc: 0.9926 - lr: 7.3509e-04\n",
            "Epoch 14/20\n",
            "128/128 [==============================] - 58s 455ms/step - loss: 0.0086 - accuracy: 0.9971 - precision: 0.9971 - recall: 0.9971 - f1_score: 0.9971 - specificity: 0.9990 - sensitivity: 0.9971 - mcc: 0.9961 - auc: 1.0000 - val_loss: 0.3103 - val_accuracy: 0.8945 - val_precision: 0.8971 - val_recall: 0.8936 - val_f1_score: 0.8953 - val_specificity: 0.9658 - val_sensitivity: 0.8936 - val_mcc: 0.8605 - val_auc: 0.9842 - lr: 6.9834e-04\n",
            "Epoch 15/20\n",
            "128/128 [==============================] - 58s 454ms/step - loss: 0.0243 - accuracy: 0.9919 - precision: 0.9922 - recall: 0.9917 - f1_score: 0.9919 - specificity: 0.9974 - sensitivity: 0.9917 - mcc: 0.9893 - auc: 0.9999 - val_loss: 0.4547 - val_accuracy: 0.8604 - val_precision: 0.8623 - val_recall: 0.8564 - val_f1_score: 0.8593 - val_specificity: 0.9544 - val_sensitivity: 0.8564 - val_mcc: 0.8127 - val_auc: 0.9702 - lr: 6.6342e-04\n",
            "Epoch 16/20\n",
            "128/128 [==============================] - 58s 456ms/step - loss: 0.0164 - accuracy: 0.9956 - precision: 0.9956 - recall: 0.9954 - f1_score: 0.9955 - specificity: 0.9985 - sensitivity: 0.9954 - mcc: 0.9940 - auc: 0.9998 - val_loss: 0.3746 - val_accuracy: 0.8887 - val_precision: 0.8894 - val_recall: 0.8877 - val_f1_score: 0.8886 - val_specificity: 0.9632 - val_sensitivity: 0.8877 - val_mcc: 0.8515 - val_auc: 0.9776 - lr: 6.3025e-04\n"
          ]
        }
      ]
    },
    {
      "cell_type": "code",
      "source": [
        "execution_time = end_time - start_time\n",
        "\n",
        "milliseconds = int(execution_time * 1000)\n",
        "seconds, milliseconds = divmod(milliseconds, 1000)\n",
        "minutes, seconds = divmod(seconds, 60)\n",
        "hours, minutes = divmod(minutes, 60)\n",
        "\n",
        "time_string = f\"{hours} hours, \" if hours else \"\"\n",
        "time_string += f\"{minutes} minutes, \" if minutes else \"\"\n",
        "time_string += f\"{seconds} seconds, \" if seconds else \"\"\n",
        "time_string += f\"{milliseconds} milliseconds\"\n",
        "\n",
        "print(f\"Model training took {time_string}\")"
      ],
      "metadata": {
        "colab": {
          "base_uri": "https://localhost:8080/"
        },
        "id": "wHBzPFDFV1c9",
        "outputId": "2e75661a-47c4-4abd-9aa8-506b403d970f"
      },
      "execution_count": 16,
      "outputs": [
        {
          "output_type": "stream",
          "name": "stdout",
          "text": [
            "Model training took 16 minutes, 28 seconds, 455 milliseconds\n"
          ]
        }
      ]
    },
    {
      "cell_type": "code",
      "source": [
        "_ = model.evaluate(X_test, y_test, verbose=2)"
      ],
      "metadata": {
        "id": "gke7b9Glw6ps",
        "outputId": "b75d6ae7-72de-48e0-c21c-a1b59a7b42f9",
        "colab": {
          "base_uri": "https://localhost:8080/"
        }
      },
      "execution_count": 17,
      "outputs": [
        {
          "output_type": "stream",
          "name": "stdout",
          "text": [
            "40/40 - 5s - loss: 0.1300 - accuracy: 0.9578 - precision: 0.9577 - recall: 0.9563 - f1_score: 0.9570 - specificity: 0.9859 - sensitivity: 0.9563 - mcc: 0.9427 - auc: 0.9963 - 5s/epoch - 114ms/step\n"
          ]
        }
      ]
    },
    {
      "cell_type": "code",
      "source": [
        "def plot_metrics(hist, metric_name_list):\n",
        "    \"\"\"\n",
        "    Plots the given metrics for the training and validation sets.\n",
        "\n",
        "    Args:\n",
        "        hist: a Keras History object containing the training history\n",
        "        metric_name_list: a list of strings representing the names of the metrics to plot\n",
        "\n",
        "    Returns:\n",
        "        None\n",
        "    \"\"\"\n",
        "    num_metrics = len(metric_name_list)\n",
        "\n",
        "    figure, axes = plt.subplots(num_metrics, figsize=(10, 6 * num_metrics))\n",
        "\n",
        "    rng = range(1, len(hist.history[metric_name_list[0]]) + 1)\n",
        "\n",
        "    for ax, metric_n in zip(axes, metric_name_list):\n",
        "        metric = hist.history[metric_n]\n",
        "        v_metric = hist.history[f\"val_{metric_n}\"]\n",
        "\n",
        "        ax.plot(rng, metric, label=metric_n)\n",
        "        ax.plot(rng, v_metric, label=f\"val_{metric_n}\")\n",
        "        ax.legend()\n",
        "        ax.set_xlabel(\"Epochs\")\n",
        "\n",
        "        if metric_n in (\"auc\", \"mcc\"):\n",
        "            ax.set_ylabel(metric_n.upper())\n",
        "            ax.set_title(metric_n.upper() + \" vs Epochs\")\n",
        "        else:\n",
        "            ax.set_ylabel(metric_n.capitalize())\n",
        "            ax.set_title(metric_n.capitalize() + \" vs Epochs\")\n",
        "\n",
        "        max_loss = max(max(metric), max(v_metric))\n",
        "        min_loss = min(min(metric), min(v_metric))\n",
        "        y_max = math.ceil(max_loss)\n",
        "\n",
        "        if min_loss > 0 or max_loss > 1:\n",
        "            ax.set_ylim(0, y_max)\n",
        "        else:\n",
        "            ax.set_ylim(min_loss, y_max)\n",
        "\n",
        "        ax.grid(True, linestyle='--', alpha=0.5)\n",
        "        ax.set_xlim(1, len(metric))\n",
        "\n",
        "    plt.tight_layout()\n",
        "\n",
        "    plt.show()"
      ],
      "metadata": {
        "id": "4gx6RAPuFyc2"
      },
      "execution_count": null,
      "outputs": []
    },
    {
      "cell_type": "code",
      "source": [
        "metric_names = [\"loss\", \"accuracy\",\"f1_score\",\n",
        "                \"specificity\", \"sensitivity\", \"mcc\"]\n",
        "plot_metrics(history, metric_names)"
      ],
      "metadata": {
        "id": "GbQlJB6r0R6-"
      },
      "execution_count": null,
      "outputs": []
    },
    {
      "cell_type": "code",
      "source": [],
      "metadata": {
        "id": "cLS-UigYMo4U"
      },
      "execution_count": 19,
      "outputs": []
    },
    {
      "cell_type": "code",
      "source": [
        "import seaborn as sns\n",
        "from sklearn.metrics import classification_report, confusion_matrix\n",
        "import numpy as np\n",
        "import matplotlib.pyplot as plt\n",
        "\n",
        "# Generate classification report\n",
        "y_pred = model.predict(X_test)\n",
        "y_pred_classes = np.argmax(y_pred, axis=1)\n",
        "\n",
        "# Assuming y_test is your one-hot encoded test labels\n",
        "y_test_classes = np.argmax(y_test, axis=1)\n",
        "\n",
        "# Determine unique classes present in predictions and true labels\n",
        "unique_classes = np.unique(np.concatenate((y_pred_classes, y_test_classes)))\n",
        "class_names = ['MildDemented', 'ModerateDemented', 'NonDemented', 'VeryMildDemented']\n",
        "\n",
        "# Select class names corresponding to unique classes\n",
        "class_names = [class_names[i] for i in unique_classes]\n",
        "\n",
        "# Generate classification report\n",
        "report = classification_report(y_test_classes, y_pred_classes, target_names=class_names)\n",
        "print(report)\n",
        "\n",
        "# Generate confusion matrix\n",
        "conf_matrix = confusion_matrix(y_test_classes, y_pred_classes)\n",
        "\n",
        "# Plot confusion matrix\n",
        "plt.figure(figsize=(8, 6))\n",
        "sns.heatmap(conf_matrix, annot=True, fmt='d', cmap='Blues', xticklabels=class_names, yticklabels=class_names)\n",
        "plt.xlabel('Predicted Labels')\n",
        "plt.ylabel('True Labels')\n",
        "plt.title('Confusion Matrix')\n",
        "plt.show()\n"
      ],
      "metadata": {
        "colab": {
          "base_uri": "https://localhost:8080/",
          "height": 798
        },
        "id": "WuPVVOAwPDGV",
        "outputId": "a257f07f-5134-4915-acb4-4608e08590f7"
      },
      "execution_count": 20,
      "outputs": [
        {
          "output_type": "stream",
          "name": "stdout",
          "text": [
            "40/40 [==============================] - 6s 112ms/step\n",
            "                  precision    recall  f1-score   support\n",
            "\n",
            "    MildDemented       0.92      0.98      0.95       448\n",
            "ModerateDemented       0.95      0.94      0.95       179\n",
            "     NonDemented       1.00      0.38      0.56        13\n",
            "VeryMildDemented       0.99      0.95      0.97       640\n",
            "\n",
            "        accuracy                           0.96      1280\n",
            "       macro avg       0.97      0.82      0.86      1280\n",
            "    weighted avg       0.96      0.96      0.96      1280\n",
            "\n"
          ]
        },
        {
          "output_type": "display_data",
          "data": {
            "text/plain": [
              "<Figure size 800x600 with 2 Axes>"
            ],
            "image/png": "[encoded data removed]"
          },
          "metadata": {}
        }
      ]
    },
    {
      "cell_type": "code",
      "source": [],
      "metadata": {
        "id": "c9xEdcMFPDop"
      },
      "execution_count": 20,
      "outputs": []
    }
  ]
}